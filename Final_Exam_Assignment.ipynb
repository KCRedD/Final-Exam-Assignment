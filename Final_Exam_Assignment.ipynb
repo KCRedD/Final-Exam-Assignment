{
  "nbformat": 4,
  "nbformat_minor": 0,
  "metadata": {
    "colab": {
      "provenance": []
    },
    "kernelspec": {
      "name": "python3",
      "display_name": "Python 3"
    },
    "language_info": {
      "name": "python"
    },
    "accelerator": "GPU",
    "gpuClass": "standard"
  },
  "cells": [
    {
      "cell_type": "code",
      "execution_count": 1,
      "metadata": {
        "id": "-ZFL1dU9IsTp"
      },
      "outputs": [],
      "source": [
        "#Import the required packages and modules\n",
        "import os\n",
        "import urllib\n",
        "import time\n",
        "import numpy as np\n",
        "import matplotlib.pyplot as plt\n",
        "#import scipy\n",
        "#from PIL import Image\n",
        "#from keras.preprocessing.image import load_img\n",
        "#from keras.preprocessing.image import img_to_array\n",
        "#from keras.preprocessing.image import array_to_img\n",
        "import torch\n",
        "import torchvision"
      ]
    },
    {
      "cell_type": "code",
      "source": [
        "\n",
        "def download_file(url, filename):\n",
        "    \"\"\"\n",
        "    A function that downloads the data file from a URL\n",
        "    Parameters\n",
        "    ----------\n",
        "    url : string\n",
        "        url where the file to download is located\n",
        "    filename : string\n",
        "        location where to save the file\n",
        "    reporthook : function\n",
        "        callback to display the download progress\n",
        "    \"\"\"\n",
        "    if not os.path.isfile(filename):\n",
        "        urllib.request.urlretrieve(url, filename, reporthook)\n",
        "\n",
        "def reporthook(count, block_size, total_size):\n",
        "    \"\"\"\n",
        "    A function that displays the status and speed of the download\n",
        "    \"\"\"\n",
        "\n",
        "    global start_time\n",
        "    if count == 0:\n",
        "        start_time = time.time()\n",
        "        return\n",
        "    duration = time.time() - start_time\n",
        "    progress_size = int(count * block_size)\n",
        "    speed = int(progress_size / (1024 * duration + 0.0001))\n",
        "    percent = int(count * block_size * 100 / total_size)\n",
        "    sys.stdout.write(\"\\r...%d%%, %d MB, %d KB/s, %d seconds passed\" %\n",
        "                     (percent, progress_size / (1024 * 1024), speed, duration))\n",
        "    sys.stdout.flush()"
      ],
      "metadata": {
        "id": "dvOVBIEKJ6If"
      },
      "execution_count": 3,
      "outputs": []
    },
    {
      "cell_type": "code",
      "source": [
        "name = 'Krishna'\n",
        "download_file(f'https://zenodo.org/record/7339649/files/data_{name}.npz?download=1','data.npz')\n"
      ],
      "metadata": {
        "id": "BW7JCjbsKsL8"
      },
      "execution_count": null,
      "outputs": []
    },
    {
      "cell_type": "markdown",
      "source": [
        "#LOADING THE DATA"
      ],
      "metadata": {
        "id": "Wa9cxcbdVFT9"
      }
    },
    {
      "cell_type": "code",
      "source": [
        "npz = np.load('/content/drive/MyDrive/Final exam assignment/data1.npz')\n"
      ],
      "metadata": {
        "id": "r4FaOiW3KuRl"
      },
      "execution_count": 4,
      "outputs": []
    },
    {
      "cell_type": "markdown",
      "source": [
        "The Data file contains three NumPy arrays"
      ],
      "metadata": {
        "id": "-W5GxlQOVI3i"
      }
    },
    {
      "cell_type": "code",
      "source": [
        "training_feat = npz['training_feat']\n",
        "training_true = npz['training_true']\n",
        "validation_feat = npz['validation_feat']\n"
      ],
      "metadata": {
        "id": "fnqUllQ1Kzs2"
      },
      "execution_count": 5,
      "outputs": []
    },
    {
      "cell_type": "code",
      "source": [
        "plt.hist(training_true)\n",
        "plt.show()\n",
        "plt.hist(validation_feat)\n",
        "plt.show()\n",
        "plt.hist(training_feat)\n",
        "plt.show()"
      ],
      "metadata": {
        "colab": {
          "base_uri": "https://localhost:8080/",
          "height": 762
        },
        "id": "UtWgX9OLK4Pr",
        "outputId": "5fdaebd6-cea4-4aa0-8215-214ca5861fd0"
      },
      "execution_count": 6,
      "outputs": [
        {
          "output_type": "display_data",
          "data": {
            "text/plain": [
              "<Figure size 432x288 with 1 Axes>"
            ],
            "image/png": "[encoded data removed]"
          },
          "metadata": {
            "needs_background": "light"
          }
        },
        {
          "output_type": "display_data",
          "data": {
            "text/plain": [
              "<Figure size 432x288 with 1 Axes>"
            ],
            "image/png": "[encoded data removed]"
          },
          "metadata": {
            "needs_background": "light"
          }
        },
        {
          "output_type": "display_data",
          "data": {
            "text/plain": [
              "<Figure size 432x288 with 1 Axes>"
            ],
            "image/png": "[encoded data removed]"
          },
          "metadata": {
            "needs_background": "light"
          }
        }
      ]
    },
    {
      "cell_type": "code",
      "source": [
        "#Manually scaled the training features between (0,1). Regression values already between (0,1)\n",
        "scaled_training_feat = (training_feat-np.min(training_feat))/(np.max(training_feat)-np.min(training_feat))\n",
        "scaled_valid_feat = (validation_feat-np.min(validation_feat))/(np.max(validation_feat)-np.min(validation_feat))"
      ],
      "metadata": {
        "id": "Qz4EIP6hK9M1"
      },
      "execution_count": 9,
      "outputs": []
    },
    {
      "cell_type": "code",
      "source": [
        "plt.hist(training_true)\n",
        "plt.show()\n",
        "plt.hist(scaled_valid_feat)\n",
        "plt.show()\n",
        "plt.hist(scaled_training_feat)\n",
        "plt.show()"
      ],
      "metadata": {
        "colab": {
          "base_uri": "https://localhost:8080/",
          "height": 762
        },
        "id": "MXpaU5NMLAU0",
        "outputId": "54f76163-11d9-43cb-d096-37f62c4ab5a5"
      },
      "execution_count": 10,
      "outputs": [
        {
          "output_type": "display_data",
          "data": {
            "text/plain": [
              "<Figure size 432x288 with 1 Axes>"
            ],
            "image/png": "[encoded data removed]"
          },
          "metadata": {
            "needs_background": "light"
          }
        },
        {
          "output_type": "display_data",
          "data": {
            "text/plain": [
              "<Figure size 432x288 with 1 Axes>"
            ],
            "image/png": "[encoded data removed]"
          },
          "metadata": {
            "needs_background": "light"
          }
        },
        {
          "output_type": "display_data",
          "data": {
            "text/plain": [
              "<Figure size 432x288 with 1 Axes>"
            ],
            "image/png": "[encoded data removed]"
          },
          "metadata": {
            "needs_background": "light"
          }
        }
      ]
    },
    {
      "cell_type": "markdown",
      "source": [
        "#BUILDING THE DATASET"
      ],
      "metadata": {
        "id": "dTcQJQMMVhjj"
      }
    },
    {
      "cell_type": "code",
      "source": [
        "class Dataset(torch.utils.data.Dataset):\n",
        "  '''Dataset Class to store the samples and their corresponding labels,\n",
        "  and DataLoader wraps an iterable around the Dataset to enable easy access to the samples.\n",
        "  '''\n",
        "\n",
        "  def __init__(self, X: np.ndarray, y: np.ndarray, device = 'cuda') -> None:\n",
        "\n",
        "    # need to convert float64 to float32 else\n",
        "    # will get the following error\n",
        "    # RuntimeError: expected scalar type Double but found Float\n",
        "    self.X = torch.tensor(X,dtype=torch.float32).to(device)\n",
        "    self.y = torch.tensor(y,dtype=torch.float32).to(device)\n",
        "    self.len = len(X)\n",
        "\n",
        "  def __getitem__(self, index: int) -> tuple:\n",
        "    return (self.X[index],self.y[index])\n",
        "\n",
        "  def __len__(self) -> int:\n",
        "    return self.len"
      ],
      "metadata": {
        "id": "ntMo1frmLEvQ"
      },
      "execution_count": 11,
      "outputs": []
    },
    {
      "cell_type": "markdown",
      "source": [
        "#TRAIN-TEST SPLIT"
      ],
      "metadata": {
        "id": "qcE4-9ftVxOJ"
      }
    },
    {
      "cell_type": "code",
      "source": [
        "dataset = Dataset(scaled_training_feat,training_true)\n"
      ],
      "metadata": {
        "id": "295oWn2yLJCa"
      },
      "execution_count": 12,
      "outputs": []
    },
    {
      "cell_type": "code",
      "source": [
        "train_dataset,test_dataset = torch.utils.data.dataset.random_split(dataset,[int(0.66 * len(dataset)), len(dataset) - int(0.66 * len(dataset))])\n"
      ],
      "metadata": {
        "id": "Q-mtAsu4LLrb"
      },
      "execution_count": 13,
      "outputs": []
    },
    {
      "cell_type": "markdown",
      "source": [
        "#BUILDING THE DATALOADER"
      ],
      "metadata": {
        "id": "KXMBPBs9VrCD"
      }
    },
    {
      "cell_type": "code",
      "source": [
        "train_dataloader = torch.utils.data.DataLoader(dataset=train_dataset,batch_size=64,shuffle=True)\n",
        "test_dataloader = torch.utils.data.DataLoader(dataset=test_dataset,batch_size=64,shuffle=True)\n"
      ],
      "metadata": {
        "id": "4ze8xaAfLN6F"
      },
      "execution_count": 14,
      "outputs": []
    },
    {
      "cell_type": "markdown",
      "source": [
        "#BUILDING A NEURAL NETWORK"
      ],
      "metadata": {
        "id": "FgyoCEyZV4p5"
      }
    },
    {
      "cell_type": "code",
      "source": [
        "class Neural_Network(torch.nn.Module):\n",
        "  ''' Regression Model\n",
        "  ''' \n",
        "\n",
        "  # note, you can ignore the `:int` and `-> None` this is just more advanced doctring syntax\n",
        "  def __init__(self, input_dim: int, hidden_dim: int, output_dim: int) -> None:\n",
        "      super(Neural_Network, self).__init__()\n",
        "      self.input_layer = torch.nn.Linear(in_features=input_dim,out_features=hidden_dim,bias=False)\n",
        "      self.relu_input_layer = torch.nn.ReLU()\n",
        "      self.hidden_layer1 = torch.nn.Linear(in_features=hidden_dim,out_features=hidden_dim,bias=False)\n",
        "      self.relu_h1 = torch.nn.ReLU()\n",
        "      self.hidden_layer2 = torch.nn.Linear(in_features=hidden_dim,out_features=hidden_dim,bias=False)\n",
        "      self.relu_h2 = torch.nn.ReLU()\n",
        "      self.output_layer = torch.nn.Linear(in_features=hidden_dim,out_features=output_dim,bias=False)\n",
        "\n",
        "  def forward(self, x: torch.Tensor) -> torch.Tensor:\n",
        "      # In this part you should build a model that returns the 3 outputs of the regression\n",
        "      # Type your code here\n",
        "      output = self.relu_input_layer(self.input_layer(x))\n",
        "      output = self.relu_h1(self.hidden_layer1(output))\n",
        "      output = self.relu_h2(self.hidden_layer2(output))\n",
        "      output = self.output_layer(output)\n",
        "      return output"
      ],
      "metadata": {
        "id": "cntxRmJmLTlB"
      },
      "execution_count": 15,
      "outputs": []
    },
    {
      "cell_type": "markdown",
      "source": [
        "#INSTANTIATE THE MODEL"
      ],
      "metadata": {
        "id": "gQbYzbmFWBVk"
      }
    },
    {
      "cell_type": "code",
      "source": [
        "input_dim = 30\n",
        "hidden_layers_dim = 50\n",
        "output_dim = 3\n",
        "model = Neural_Network(input_dim=input_dim,hidden_dim = hidden_layers_dim,output_dim=output_dim).to(device=\"cuda\")\n",
        "print(model)"
      ],
      "metadata": {
        "colab": {
          "base_uri": "https://localhost:8080/"
        },
        "id": "-geYU6aeLUuQ",
        "outputId": "9dd21452-8f9c-4a52-ec4f-e6bbeb294935"
      },
      "execution_count": 16,
      "outputs": [
        {
          "output_type": "stream",
          "name": "stdout",
          "text": [
            "Neural_Network(\n",
            "  (input_layer): Linear(in_features=30, out_features=50, bias=False)\n",
            "  (relu_input_layer): ReLU()\n",
            "  (hidden_layer1): Linear(in_features=50, out_features=50, bias=False)\n",
            "  (relu_h1): ReLU()\n",
            "  (hidden_layer2): Linear(in_features=50, out_features=50, bias=False)\n",
            "  (relu_h2): ReLU()\n",
            "  (output_layer): Linear(in_features=50, out_features=3, bias=False)\n",
            ")\n"
          ]
        }
      ]
    },
    {
      "cell_type": "code",
      "source": [
        "#Loss and optimizer functions\n",
        "loss_func = torch.nn.MSELoss()\n",
        "optimizer = torch.optim.Adam(model.parameters(), lr=3e-5)\n"
      ],
      "metadata": {
        "id": "G3BGYk2MLYmP"
      },
      "execution_count": 17,
      "outputs": []
    },
    {
      "cell_type": "markdown",
      "source": [
        "#TRAIN THE MODEL"
      ],
      "metadata": {
        "id": "nJBa8cAFWY4Q"
      }
    },
    {
      "cell_type": "code",
      "source": [
        "num_epochs = 20\n",
        "all_losses = []\n",
        "for e in range(num_epochs):\n",
        "    batch_losses = []\n",
        "\n",
        "    for ix, (X, y) in enumerate(train_dataloader):\n",
        "\n",
        "        _X = torch.autograd.Variable(X).float()\n",
        "        _y = torch.autograd.Variable(y).float()\n",
        "\n",
        "        #Forward pass\n",
        "\n",
        "        preds = model(_X)\n",
        "        loss = loss_func(preds, _y)\n",
        "\n",
        "        #backward pass\n",
        "\n",
        "        optimizer.zero_grad()\n",
        "        loss.backward()\n",
        "        optimizer.step()\n",
        "\n",
        "        batch_losses.append(loss.data)\n",
        "        all_losses.append(loss.data)\n",
        "\n",
        "        \n",
        "\n",
        "    batch_mse = torch.mean(torch.stack(batch_losses))\n",
        "\n",
        "    if e % 1 == 0:\n",
        "        print(\"Epoch [{}/{}], Batch loss: {}\".format(e, num_epochs, batch_mse))\n"
      ],
      "metadata": {
        "colab": {
          "base_uri": "https://localhost:8080/"
        },
        "id": "-Drum7v6LbRh",
        "outputId": "25317ddd-3309-48d8-c1cd-72fa7533d8d8"
      },
      "execution_count": 18,
      "outputs": [
        {
          "output_type": "stream",
          "name": "stdout",
          "text": [
            "Epoch [0/20], Batch loss: 0.12635353207588196\n",
            "Epoch [1/20], Batch loss: 0.020683085545897484\n",
            "Epoch [2/20], Batch loss: 0.016667025163769722\n",
            "Epoch [3/20], Batch loss: 0.012249327264726162\n",
            "Epoch [4/20], Batch loss: 0.008582539856433868\n",
            "Epoch [5/20], Batch loss: 0.007326253689825535\n",
            "Epoch [6/20], Batch loss: 0.006936956662684679\n",
            "Epoch [7/20], Batch loss: 0.006773734465241432\n",
            "Epoch [8/20], Batch loss: 0.0066995322704315186\n",
            "Epoch [9/20], Batch loss: 0.006664440035820007\n",
            "Epoch [10/20], Batch loss: 0.006646082270890474\n",
            "Epoch [11/20], Batch loss: 0.00663605984300375\n",
            "Epoch [12/20], Batch loss: 0.006618673447519541\n",
            "Epoch [13/20], Batch loss: 0.006604339927434921\n",
            "Epoch [14/20], Batch loss: 0.006585841067135334\n",
            "Epoch [15/20], Batch loss: 0.006561701651662588\n",
            "Epoch [16/20], Batch loss: 0.006535636261105537\n",
            "Epoch [17/20], Batch loss: 0.0064954208210110664\n",
            "Epoch [18/20], Batch loss: 0.006452145520597696\n",
            "Epoch [19/20], Batch loss: 0.006393279414623976\n"
          ]
        }
      ]
    },
    {
      "cell_type": "markdown",
      "source": [
        "#VALIDATING THE MODEL"
      ],
      "metadata": {
        "id": "0wVOx0G2WeuF"
      }
    },
    {
      "cell_type": "code",
      "source": [
        "with torch.no_grad():\n",
        "  test_batch_losses = []\n",
        "  for X, y in test_dataloader:\n",
        "    _X = torch.autograd.Variable(X).float()\n",
        "    _y = torch.autograd.Variable(y).float()\n",
        "\n",
        "    test_loss = torch.tensor(0)\n",
        "    #Get predictions on test set\n",
        "    test_preds = model(_X)\n",
        "    test_loss = loss_func(test_preds,_y)\n",
        "\n",
        "    test_batch_losses.append(test_loss.data)\n",
        "  print(\"Test Batch loss: {}\".format(torch.mean(torch.stack(test_batch_losses))))\n"
      ],
      "metadata": {
        "colab": {
          "base_uri": "https://localhost:8080/"
        },
        "id": "CdtbeuTlLhIT",
        "outputId": "01d54621-b8ff-4441-9ac3-3b324a391dcc"
      },
      "execution_count": 19,
      "outputs": [
        {
          "output_type": "stream",
          "name": "stdout",
          "text": [
            "Test Batch loss: 0.006354453042149544\n"
          ]
        }
      ]
    },
    {
      "cell_type": "markdown",
      "source": [
        "**Question: Is your model overfitting or not? How do you know? (3 points)**\n",
        "\n",
        "We can observe that the final loss for the training epochs was ~0.00639 while the test batch loss was ~0.00635. This shows that the model performs similarly well on the testing split and does not lose predictive performance when predicting testing data\n"
      ],
      "metadata": {
        "id": "eC57mg6CLwo8"
      }
    },
    {
      "cell_type": "markdown",
      "source": [
        "\n",
        "#CRACKING MY CODE"
      ],
      "metadata": {
        "id": "OCMZzObNWxo5"
      }
    },
    {
      "cell_type": "code",
      "source": [
        "scaled_valid_feat = (validation_feat-np.min(validation_feat))/(np.max(validation_feat)-np.min(validation_feat))\n",
        "valid_tensor = torch.tensor(scaled_valid_feat,dtype=torch.float32).to('cuda')\n",
        "validation_dataloader = torch.utils.data.DataLoader(dataset=valid_tensor,batch_size=64)\n",
        "\n",
        "with torch.no_grad():\n",
        "  prediction_list = []\n",
        "  for X in validation_dataloader:\n",
        "    _X = torch.autograd.Variable(X).float()\n",
        "\n",
        "    valid_preds = model(_X)\n",
        "    prediction_list.append(valid_preds.cpu())\n"
      ],
      "metadata": {
        "id": "mAODPD4jL5M4"
      },
      "execution_count": 20,
      "outputs": []
    },
    {
      "cell_type": "markdown",
      "source": [
        "#REVEALING MY CODE"
      ],
      "metadata": {
        "id": "xe-GU8OiW_fm"
      }
    },
    {
      "cell_type": "code",
      "source": [
        "code_image_np = torch.cat(prediction_list).detach().cpu().numpy().reshape(256,256,3)\n"
      ],
      "metadata": {
        "id": "C8dQYU-gL8xV"
      },
      "execution_count": 21,
      "outputs": []
    },
    {
      "cell_type": "code",
      "source": [
        "plt.imshow(code_image_np)"
      ],
      "metadata": {
        "colab": {
          "base_uri": "https://localhost:8080/",
          "height": 286
        },
        "id": "VRh835LMMAH4",
        "outputId": "d9d08538-5087-42c7-8f7a-3eade77ff6aa"
      },
      "execution_count": 22,
      "outputs": [
        {
          "output_type": "execute_result",
          "data": {
            "text/plain": [
              "<matplotlib.image.AxesImage at 0x7fac5e4d71f0>"
            ]
          },
          "metadata": {},
          "execution_count": 22
        },
        {
          "output_type": "display_data",
          "data": {
            "text/plain": [
              "<Figure size 432x288 with 1 Axes>"
            ],
            "image/png": "[encoded data removed]"
          },
          "metadata": {
            "needs_background": "light"
          }
        }
      ]
    }
  ]
}